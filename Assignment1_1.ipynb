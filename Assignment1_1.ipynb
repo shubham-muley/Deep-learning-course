{
 "cells": [
  {
   "cell_type": "markdown",
   "metadata": {},
   "source": [
    "# Assignment-1"
   ]
  },
  {
   "cell_type": "markdown",
   "metadata": {},
   "source": [
    "# Regno.:20MAI0056\n",
    "\n",
    "Name : Shubham Muley\n",
    "\n",
    "Github link to repository : [Deep-Learning-Course](https://github.com/shubham-muley/Deep-learning-course/tree/Assignment-1)"
   ]
  },
  {
   "cell_type": "markdown",
   "metadata": {},
   "source": [
    "# Task-1"
   ]
  },
  {
   "cell_type": "code",
   "execution_count": 66,
   "metadata": {},
   "outputs": [],
   "source": [
    "import numpy as np"
   ]
  },
  {
   "cell_type": "code",
   "execution_count": 67,
   "metadata": {},
   "outputs": [],
   "source": [
    "class Perceptron(object):\n",
    "    def __init__(self, input_size, lr=1, epochs=100):\n",
    "        self.W = np.zeros(input_size+1)\n",
    "        # add one for bias\n",
    "        self.epochs = epochs\n",
    "        self.lr = lr\n",
    "    \n",
    "    def activation_fn(self, x):\n",
    "        #return (x >= 0).astype(np.float32)\n",
    "        return 1 if x >= 0 else 0\n",
    " \n",
    "    def predict(self, x):\n",
    "        z = self.W.T.dot(x)\n",
    "        a = self.activation_fn(z)\n",
    "        return a\n",
    " \n",
    "    def fit(self, X, d):\n",
    "        for _ in range(self.epochs):\n",
    "            for i in range(d.shape[0]):\n",
    "                x = np.insert(X[i], 0, 1)\n",
    "                y = self.predict(x)\n",
    "                e = d[i] - y\n",
    "                self.W = self.W + self.lr * e * x"
   ]
  },
  {
   "cell_type": "code",
   "execution_count": 69,
   "metadata": {},
   "outputs": [],
   "source": [
    "def predict(self, x):\n",
    "    x = np.insert(x, 0, 1)\n",
    "    z = self.W.T.dot(x)\n",
    "    a = self.activation_fn(z)\n",
    "    return a"
   ]
  },
  {
   "cell_type": "code",
   "execution_count": 71,
   "metadata": {},
   "outputs": [
    {
     "name": "stdout",
     "output_type": "stream",
     "text": [
      "Weights are as follows : [-4.  5.  1. -3.]\n",
      "The class of the given test data is 0\n"
     ]
    }
   ],
   "source": [
    "if __name__ == '__main__':\n",
    "    X = np.array([\n",
    "        [1,2,3],\n",
    "        [4,5,6],\n",
    "        [7,8,9]\n",
    "    ])\n",
    "    d = np.array([0, 1, 1])\n",
    "    p= np.array([4,7,8])\n",
    "    perceptron = Perceptron(input_size=3)\n",
    "    perceptron.fit(X, d)\n",
    "    \n",
    "    print(\"Weights are as follows : {}\".format(perceptron.W))\n",
    "    print(\"The class of the given test data is {}\".format(predict(perceptron,p)))"
   ]
  }
 ],
 "metadata": {
  "kernelspec": {
   "display_name": "Python 3",
   "language": "python",
   "name": "python3"
  },
  "language_info": {
   "codemirror_mode": {
    "name": "ipython",
    "version": 3
   },
   "file_extension": ".py",
   "mimetype": "text/x-python",
   "name": "python",
   "nbconvert_exporter": "python",
   "pygments_lexer": "ipython3",
   "version": "3.8.3"
  }
 },
 "nbformat": 4,
 "nbformat_minor": 4
}
